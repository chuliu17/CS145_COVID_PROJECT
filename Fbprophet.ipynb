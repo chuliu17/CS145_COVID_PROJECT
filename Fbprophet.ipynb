{
 "cells": [
  {
   "cell_type": "code",
   "execution_count": 1,
   "metadata": {},
   "outputs": [],
   "source": [
    "import time\n",
    "import pandas as pd\n",
    "import numpy as np\n",
    "import random\n",
    "import matplotlib.pyplot as plt\n",
    "\n",
    "from fbprophet import Prophet\n",
    "from fbprophet.diagnostics import cross_validation\n",
    "from fbprophet.diagnostics import performance_metrics\n",
    "from fbprophet.plot import plot_cross_validation_metric\n",
    "from sklearn.model_selection import ParameterGrid\n",
    "import itertools"
   ]
  },
  {
   "cell_type": "code",
   "execution_count": 20,
   "metadata": {},
   "outputs": [
    {
     "data": {
      "text/plain": [
       "(          ID Province_State         ds       y  Deaths\n",
       " 0          0        Alabama 2020-04-12    3563      93\n",
       " 1          1         Alaska 2020-04-12     272       8\n",
       " 2          2        Arizona 2020-04-12    3542     115\n",
       " 3          3       Arkansas 2020-04-12    1280      27\n",
       " 4          4     California 2020-04-12   22795     640\n",
       " ...      ...            ...        ...     ...     ...\n",
       " 11245  11245       Virginia 2020-11-22  217796    3938\n",
       " 11246  11246     Washington 2020-11-22  141260    2619\n",
       " 11247  11247  West Virginia 2020-11-22   40478     662\n",
       " 11248  11248      Wisconsin 2020-11-22  376238    3150\n",
       " 11249  11249        Wyoming 2020-11-22   28169     176\n",
       " \n",
       " [11250 rows x 5 columns],\n",
       "           ID Province_State         ds  Confirmed     y\n",
       " 0          0        Alabama 2020-04-12       3563    93\n",
       " 1          1         Alaska 2020-04-12        272     8\n",
       " 2          2        Arizona 2020-04-12       3542   115\n",
       " 3          3       Arkansas 2020-04-12       1280    27\n",
       " 4          4     California 2020-04-12      22795   640\n",
       " ...      ...            ...        ...        ...   ...\n",
       " 11245  11245       Virginia 2020-11-22     217796  3938\n",
       " 11246  11246     Washington 2020-11-22     141260  2619\n",
       " 11247  11247  West Virginia 2020-11-22      40478   662\n",
       " 11248  11248      Wisconsin 2020-11-22     376238  3150\n",
       " 11249  11249        Wyoming 2020-11-22      28169   176\n",
       " \n",
       " [11250 rows x 5 columns])"
      ]
     },
     "execution_count": 20,
     "metadata": {},
     "output_type": "execute_result"
    }
   ],
   "source": [
    "# prepare and clean data\n",
    "df = pd.read_csv('data/train_round2.csv', index_col=None)\n",
    "df = df[['ID','Province_State','Date','Confirmed','Deaths']] #choose the columns needed\n",
    "df['Date'] = pd.to_datetime(df['Date'])\n",
    "\n",
    "# df1 for predicting confirmed cases\n",
    "df1 = df.rename(columns = {'Date':'ds', 'Confirmed': 'y'})\n",
    "\n",
    "# df2 for predicting death cases\n",
    "df2 = df.rename(columns = {'Date':'ds', 'Deaths': 'y'})\n",
    "df1,df2"
   ]
  },
  {
   "cell_type": "code",
   "execution_count": 21,
   "metadata": {},
   "outputs": [
    {
     "data": {
      "text/plain": [
       "50"
      ]
     },
     "execution_count": 21,
     "metadata": {},
     "output_type": "execute_result"
    }
   ],
   "source": [
    "States = df['Province_State'].drop_duplicates()\n",
    "len(States)"
   ]
  },
  {
   "cell_type": "code",
   "execution_count": 22,
   "metadata": {},
   "outputs": [],
   "source": [
    "def generate_ForecastID(df_pred, target_str, start_date, state, States):\n",
    "    '''\n",
    "    df_pred: predicted data of one state from fbprophet \n",
    "    target_str: for renaming 'yhat'\n",
    "    start_date: desired cutoff date\n",
    "    States: list of states\n",
    "    state: state of df_pred\n",
    "    '''\n",
    "    df = df_pred[['ds', 'yhat']]\n",
    "    # select data after start_date\n",
    "    df = df[df['ds'] >= start_date ].reset_index(drop = True) #'2020-09-01'\n",
    "\n",
    "    #push index to first column and use 'index' column to generate 'ForecastID'\n",
    "    df = df.reset_index() \n",
    "    df['index'] = df['index']*50 + States.index(state)\n",
    "\n",
    "    df = df.rename(columns = {'index':'ForecastID', 'yhat': target_str }) \n",
    "    \n",
    "    return df"
   ]
  },
  {
   "cell_type": "code",
   "execution_count": 23,
   "metadata": {},
   "outputs": [],
   "source": [
    "def get_bestParameters(df, all_params):\n",
    "    '''\n",
    "    df: data of one state, has 'ds' and 'y'\n",
    "    \n",
    "    \n",
    "    ## simple hyperparameter tuning\n",
    "    '''\n",
    "    mapes = []  # Store the RMSEs for each params here\n",
    "    min_MAPE = 1000\n",
    "    \n",
    "    # Use cross validation to evaluate all parameters\n",
    "    for params in all_params:\n",
    "        m = Prophet(**params).fit(df)  # Fit model with given params\n",
    "        df_cv = cross_validation(m, initial='30 days', period='30 days', horizon = '26 days')\n",
    "        df_p = performance_metrics(df_cv, rolling_window=1)\n",
    "        mape = df_p['mape'].values[0]\n",
    "        mapes.append(mape)\n",
    "\n",
    "        #find min mape and best parameters\n",
    "        if min_MAPE > mape:\n",
    "            min_MAPE = mape\n",
    "            best_params = params\n",
    "\n",
    "    # keep track of tuning results\n",
    "    tuning_results = pd.DataFrame(all_params)\n",
    "    tuning_results['mape'] = mapes\n",
    "    \n",
    "    return best_params\n",
    "    "
   ]
  },
  {
   "cell_type": "markdown",
   "metadata": {},
   "source": [
    "### Simple Model Fitting with default parameters"
   ]
  },
  {
   "cell_type": "code",
   "execution_count": 26,
   "metadata": {
    "scrolled": true
   },
   "outputs": [
    {
     "name": "stderr",
     "output_type": "stream",
     "text": [
      "INFO:fbprophet:Disabling yearly seasonality. Run prophet with yearly_seasonality=True to override this.\n",
      "INFO:fbprophet:Disabling daily seasonality. Run prophet with daily_seasonality=True to override this.\n",
      "INFO:fbprophet:Disabling yearly seasonality. Run prophet with yearly_seasonality=True to override this.\n",
      "INFO:fbprophet:Disabling daily seasonality. Run prophet with daily_seasonality=True to override this.\n",
      "INFO:fbprophet:Disabling yearly seasonality. Run prophet with yearly_seasonality=True to override this.\n",
      "INFO:fbprophet:Disabling daily seasonality. Run prophet with daily_seasonality=True to override this.\n",
      "INFO:fbprophet:Disabling yearly seasonality. Run prophet with yearly_seasonality=True to override this.\n",
      "INFO:fbprophet:Disabling daily seasonality. Run prophet with daily_seasonality=True to override this.\n"
     ]
    }
   ],
   "source": [
    "df1_all_states = [] #store predicted data for each state\n",
    "df2_all_states = []\n",
    "start_date = '2020-12-07'\n",
    "States = df['Province_State'].drop_duplicates().tolist()\n",
    "\n",
    "for state in States[:2]:  # States[:2] test out 2 states\n",
    "\n",
    "    # training data: 2020-04-12 to 2020-08-31\n",
    "    # predict confirmed cases\n",
    "    df1_one_state = df1[df1['Province_State'] == state]\n",
    "    \n",
    "    m1 = Prophet().fit(df1_one_state) # fit data to model\n",
    "    future = m1.make_future_dataframe(periods=21, freq = 'D')  #predict the data from 11/23 - 12/13\n",
    "    forecast1 = m1.predict (future) # predict\n",
    "    \n",
    "    df1_one_state_pred = generate_ForecastID(forecast1, 'Confirmed', start_date, state, States)  #generate ForecastID\n",
    "    df1_all_states.append(df1_one_state_pred)\n",
    "    \n",
    "    # predict death cases\n",
    "    df2_one_state = df2[df2['Province_State'] == state]\n",
    "    \n",
    "    m2 = Prophet().fit(df2_one_state)\n",
    "    forecast2 = m2.predict (future)\n",
    "    \n",
    "    df2_one_state_pred = generate_ForecastID(forecast2, 'Deaths', start_date, state, States) \n",
    "    df2_all_states.append(df2_one_state_pred)"
   ]
  },
  {
   "cell_type": "code",
   "execution_count": 27,
   "metadata": {},
   "outputs": [
    {
     "data": {
      "text/html": [
       "<div>\n",
       "<style scoped>\n",
       "    .dataframe tbody tr th:only-of-type {\n",
       "        vertical-align: middle;\n",
       "    }\n",
       "\n",
       "    .dataframe tbody tr th {\n",
       "        vertical-align: top;\n",
       "    }\n",
       "\n",
       "    .dataframe thead th {\n",
       "        text-align: right;\n",
       "    }\n",
       "</style>\n",
       "<table border=\"1\" class=\"dataframe\">\n",
       "  <thead>\n",
       "    <tr style=\"text-align: right;\">\n",
       "      <th></th>\n",
       "      <th>ForecastID</th>\n",
       "      <th>ds</th>\n",
       "      <th>Confirmed</th>\n",
       "    </tr>\n",
       "  </thead>\n",
       "  <tbody>\n",
       "    <tr>\n",
       "      <th>0</th>\n",
       "      <td>0</td>\n",
       "      <td>2020-12-07</td>\n",
       "      <td>249894.229669</td>\n",
       "    </tr>\n",
       "    <tr>\n",
       "      <th>7</th>\n",
       "      <td>1</td>\n",
       "      <td>2020-12-07</td>\n",
       "      <td>31783.118066</td>\n",
       "    </tr>\n",
       "    <tr>\n",
       "      <th>1</th>\n",
       "      <td>50</td>\n",
       "      <td>2020-12-08</td>\n",
       "      <td>251248.747871</td>\n",
       "    </tr>\n",
       "    <tr>\n",
       "      <th>8</th>\n",
       "      <td>51</td>\n",
       "      <td>2020-12-08</td>\n",
       "      <td>32209.284705</td>\n",
       "    </tr>\n",
       "    <tr>\n",
       "      <th>2</th>\n",
       "      <td>100</td>\n",
       "      <td>2020-12-09</td>\n",
       "      <td>252700.279159</td>\n",
       "    </tr>\n",
       "    <tr>\n",
       "      <th>9</th>\n",
       "      <td>101</td>\n",
       "      <td>2020-12-09</td>\n",
       "      <td>32599.515647</td>\n",
       "    </tr>\n",
       "    <tr>\n",
       "      <th>3</th>\n",
       "      <td>150</td>\n",
       "      <td>2020-12-10</td>\n",
       "      <td>254438.542779</td>\n",
       "    </tr>\n",
       "    <tr>\n",
       "      <th>10</th>\n",
       "      <td>151</td>\n",
       "      <td>2020-12-10</td>\n",
       "      <td>32993.991929</td>\n",
       "    </tr>\n",
       "    <tr>\n",
       "      <th>4</th>\n",
       "      <td>200</td>\n",
       "      <td>2020-12-11</td>\n",
       "      <td>256169.526441</td>\n",
       "    </tr>\n",
       "    <tr>\n",
       "      <th>11</th>\n",
       "      <td>201</td>\n",
       "      <td>2020-12-11</td>\n",
       "      <td>33395.826776</td>\n",
       "    </tr>\n",
       "    <tr>\n",
       "      <th>5</th>\n",
       "      <td>250</td>\n",
       "      <td>2020-12-12</td>\n",
       "      <td>257750.633075</td>\n",
       "    </tr>\n",
       "    <tr>\n",
       "      <th>12</th>\n",
       "      <td>251</td>\n",
       "      <td>2020-12-12</td>\n",
       "      <td>33820.413814</td>\n",
       "    </tr>\n",
       "    <tr>\n",
       "      <th>6</th>\n",
       "      <td>300</td>\n",
       "      <td>2020-12-13</td>\n",
       "      <td>259096.489168</td>\n",
       "    </tr>\n",
       "    <tr>\n",
       "      <th>13</th>\n",
       "      <td>301</td>\n",
       "      <td>2020-12-13</td>\n",
       "      <td>34240.971902</td>\n",
       "    </tr>\n",
       "  </tbody>\n",
       "</table>\n",
       "</div>"
      ],
      "text/plain": [
       "    ForecastID         ds      Confirmed\n",
       "0            0 2020-12-07  249894.229669\n",
       "7            1 2020-12-07   31783.118066\n",
       "1           50 2020-12-08  251248.747871\n",
       "8           51 2020-12-08   32209.284705\n",
       "2          100 2020-12-09  252700.279159\n",
       "9          101 2020-12-09   32599.515647\n",
       "3          150 2020-12-10  254438.542779\n",
       "10         151 2020-12-10   32993.991929\n",
       "4          200 2020-12-11  256169.526441\n",
       "11         201 2020-12-11   33395.826776\n",
       "5          250 2020-12-12  257750.633075\n",
       "12         251 2020-12-12   33820.413814\n",
       "6          300 2020-12-13  259096.489168\n",
       "13         301 2020-12-13   34240.971902"
      ]
     },
     "execution_count": 27,
     "metadata": {},
     "output_type": "execute_result"
    }
   ],
   "source": [
    "df1_pred = pd.concat(df1_all_states, ignore_index=True).sort_values(by=['ForecastID'])\n",
    "#df1_pred"
   ]
  },
  {
   "cell_type": "code",
   "execution_count": 28,
   "metadata": {},
   "outputs": [
    {
     "data": {
      "text/html": [
       "<div>\n",
       "<style scoped>\n",
       "    .dataframe tbody tr th:only-of-type {\n",
       "        vertical-align: middle;\n",
       "    }\n",
       "\n",
       "    .dataframe tbody tr th {\n",
       "        vertical-align: top;\n",
       "    }\n",
       "\n",
       "    .dataframe thead th {\n",
       "        text-align: right;\n",
       "    }\n",
       "</style>\n",
       "<table border=\"1\" class=\"dataframe\">\n",
       "  <thead>\n",
       "    <tr style=\"text-align: right;\">\n",
       "      <th></th>\n",
       "      <th>ForecastID</th>\n",
       "      <th>ds</th>\n",
       "      <th>Deaths</th>\n",
       "    </tr>\n",
       "  </thead>\n",
       "  <tbody>\n",
       "    <tr>\n",
       "      <th>0</th>\n",
       "      <td>0</td>\n",
       "      <td>2020-12-07</td>\n",
       "      <td>3619.045390</td>\n",
       "    </tr>\n",
       "    <tr>\n",
       "      <th>7</th>\n",
       "      <td>1</td>\n",
       "      <td>2020-12-07</td>\n",
       "      <td>116.400396</td>\n",
       "    </tr>\n",
       "    <tr>\n",
       "      <th>1</th>\n",
       "      <td>50</td>\n",
       "      <td>2020-12-08</td>\n",
       "      <td>3641.545325</td>\n",
       "    </tr>\n",
       "    <tr>\n",
       "      <th>8</th>\n",
       "      <td>51</td>\n",
       "      <td>2020-12-08</td>\n",
       "      <td>117.701792</td>\n",
       "    </tr>\n",
       "    <tr>\n",
       "      <th>2</th>\n",
       "      <td>100</td>\n",
       "      <td>2020-12-09</td>\n",
       "      <td>3667.488399</td>\n",
       "    </tr>\n",
       "    <tr>\n",
       "      <th>9</th>\n",
       "      <td>101</td>\n",
       "      <td>2020-12-09</td>\n",
       "      <td>118.746085</td>\n",
       "    </tr>\n",
       "    <tr>\n",
       "      <th>3</th>\n",
       "      <td>150</td>\n",
       "      <td>2020-12-10</td>\n",
       "      <td>3688.911722</td>\n",
       "    </tr>\n",
       "    <tr>\n",
       "      <th>10</th>\n",
       "      <td>151</td>\n",
       "      <td>2020-12-10</td>\n",
       "      <td>119.723133</td>\n",
       "    </tr>\n",
       "    <tr>\n",
       "      <th>4</th>\n",
       "      <td>200</td>\n",
       "      <td>2020-12-11</td>\n",
       "      <td>3710.455247</td>\n",
       "    </tr>\n",
       "    <tr>\n",
       "      <th>11</th>\n",
       "      <td>201</td>\n",
       "      <td>2020-12-11</td>\n",
       "      <td>120.873338</td>\n",
       "    </tr>\n",
       "    <tr>\n",
       "      <th>5</th>\n",
       "      <td>250</td>\n",
       "      <td>2020-12-12</td>\n",
       "      <td>3725.155579</td>\n",
       "    </tr>\n",
       "    <tr>\n",
       "      <th>12</th>\n",
       "      <td>251</td>\n",
       "      <td>2020-12-12</td>\n",
       "      <td>121.898538</td>\n",
       "    </tr>\n",
       "    <tr>\n",
       "      <th>6</th>\n",
       "      <td>300</td>\n",
       "      <td>2020-12-13</td>\n",
       "      <td>3732.061606</td>\n",
       "    </tr>\n",
       "    <tr>\n",
       "      <th>13</th>\n",
       "      <td>301</td>\n",
       "      <td>2020-12-13</td>\n",
       "      <td>122.659970</td>\n",
       "    </tr>\n",
       "  </tbody>\n",
       "</table>\n",
       "</div>"
      ],
      "text/plain": [
       "    ForecastID         ds       Deaths\n",
       "0            0 2020-12-07  3619.045390\n",
       "7            1 2020-12-07   116.400396\n",
       "1           50 2020-12-08  3641.545325\n",
       "8           51 2020-12-08   117.701792\n",
       "2          100 2020-12-09  3667.488399\n",
       "9          101 2020-12-09   118.746085\n",
       "3          150 2020-12-10  3688.911722\n",
       "10         151 2020-12-10   119.723133\n",
       "4          200 2020-12-11  3710.455247\n",
       "11         201 2020-12-11   120.873338\n",
       "5          250 2020-12-12  3725.155579\n",
       "12         251 2020-12-12   121.898538\n",
       "6          300 2020-12-13  3732.061606\n",
       "13         301 2020-12-13   122.659970"
      ]
     },
     "execution_count": 28,
     "metadata": {},
     "output_type": "execute_result"
    }
   ],
   "source": [
    "df2_pred = pd.concat(df2_all_states, ignore_index=True).sort_values(by=['ForecastID'])\n",
    "#df2_pred"
   ]
  },
  {
   "cell_type": "code",
   "execution_count": 32,
   "metadata": {},
   "outputs": [
    {
     "data": {
      "text/html": [
       "<div>\n",
       "<style scoped>\n",
       "    .dataframe tbody tr th:only-of-type {\n",
       "        vertical-align: middle;\n",
       "    }\n",
       "\n",
       "    .dataframe tbody tr th {\n",
       "        vertical-align: top;\n",
       "    }\n",
       "\n",
       "    .dataframe thead th {\n",
       "        text-align: right;\n",
       "    }\n",
       "</style>\n",
       "<table border=\"1\" class=\"dataframe\">\n",
       "  <thead>\n",
       "    <tr style=\"text-align: right;\">\n",
       "      <th></th>\n",
       "      <th>ForecastID</th>\n",
       "      <th>ds</th>\n",
       "      <th>Confirmed</th>\n",
       "      <th>Deaths</th>\n",
       "    </tr>\n",
       "  </thead>\n",
       "  <tbody>\n",
       "    <tr>\n",
       "      <th>0</th>\n",
       "      <td>0</td>\n",
       "      <td>2020-12-07</td>\n",
       "      <td>249894.229669</td>\n",
       "      <td>3619.045390</td>\n",
       "    </tr>\n",
       "    <tr>\n",
       "      <th>7</th>\n",
       "      <td>1</td>\n",
       "      <td>2020-12-07</td>\n",
       "      <td>31783.118066</td>\n",
       "      <td>116.400396</td>\n",
       "    </tr>\n",
       "    <tr>\n",
       "      <th>1</th>\n",
       "      <td>50</td>\n",
       "      <td>2020-12-08</td>\n",
       "      <td>251248.747871</td>\n",
       "      <td>3641.545325</td>\n",
       "    </tr>\n",
       "    <tr>\n",
       "      <th>8</th>\n",
       "      <td>51</td>\n",
       "      <td>2020-12-08</td>\n",
       "      <td>32209.284705</td>\n",
       "      <td>117.701792</td>\n",
       "    </tr>\n",
       "    <tr>\n",
       "      <th>2</th>\n",
       "      <td>100</td>\n",
       "      <td>2020-12-09</td>\n",
       "      <td>252700.279159</td>\n",
       "      <td>3667.488399</td>\n",
       "    </tr>\n",
       "    <tr>\n",
       "      <th>9</th>\n",
       "      <td>101</td>\n",
       "      <td>2020-12-09</td>\n",
       "      <td>32599.515647</td>\n",
       "      <td>118.746085</td>\n",
       "    </tr>\n",
       "    <tr>\n",
       "      <th>3</th>\n",
       "      <td>150</td>\n",
       "      <td>2020-12-10</td>\n",
       "      <td>254438.542779</td>\n",
       "      <td>3688.911722</td>\n",
       "    </tr>\n",
       "    <tr>\n",
       "      <th>10</th>\n",
       "      <td>151</td>\n",
       "      <td>2020-12-10</td>\n",
       "      <td>32993.991929</td>\n",
       "      <td>119.723133</td>\n",
       "    </tr>\n",
       "    <tr>\n",
       "      <th>4</th>\n",
       "      <td>200</td>\n",
       "      <td>2020-12-11</td>\n",
       "      <td>256169.526441</td>\n",
       "      <td>3710.455247</td>\n",
       "    </tr>\n",
       "    <tr>\n",
       "      <th>11</th>\n",
       "      <td>201</td>\n",
       "      <td>2020-12-11</td>\n",
       "      <td>33395.826776</td>\n",
       "      <td>120.873338</td>\n",
       "    </tr>\n",
       "    <tr>\n",
       "      <th>5</th>\n",
       "      <td>250</td>\n",
       "      <td>2020-12-12</td>\n",
       "      <td>257750.633075</td>\n",
       "      <td>3725.155579</td>\n",
       "    </tr>\n",
       "    <tr>\n",
       "      <th>12</th>\n",
       "      <td>251</td>\n",
       "      <td>2020-12-12</td>\n",
       "      <td>33820.413814</td>\n",
       "      <td>121.898538</td>\n",
       "    </tr>\n",
       "    <tr>\n",
       "      <th>6</th>\n",
       "      <td>300</td>\n",
       "      <td>2020-12-13</td>\n",
       "      <td>259096.489168</td>\n",
       "      <td>3732.061606</td>\n",
       "    </tr>\n",
       "    <tr>\n",
       "      <th>13</th>\n",
       "      <td>301</td>\n",
       "      <td>2020-12-13</td>\n",
       "      <td>34240.971902</td>\n",
       "      <td>122.659970</td>\n",
       "    </tr>\n",
       "  </tbody>\n",
       "</table>\n",
       "</div>"
      ],
      "text/plain": [
       "    ForecastID         ds      Confirmed       Deaths\n",
       "0            0 2020-12-07  249894.229669  3619.045390\n",
       "7            1 2020-12-07   31783.118066   116.400396\n",
       "1           50 2020-12-08  251248.747871  3641.545325\n",
       "8           51 2020-12-08   32209.284705   117.701792\n",
       "2          100 2020-12-09  252700.279159  3667.488399\n",
       "9          101 2020-12-09   32599.515647   118.746085\n",
       "3          150 2020-12-10  254438.542779  3688.911722\n",
       "10         151 2020-12-10   32993.991929   119.723133\n",
       "4          200 2020-12-11  256169.526441  3710.455247\n",
       "11         201 2020-12-11   33395.826776   120.873338\n",
       "5          250 2020-12-12  257750.633075  3725.155579\n",
       "12         251 2020-12-12   33820.413814   121.898538\n",
       "6          300 2020-12-13  259096.489168  3732.061606\n",
       "13         301 2020-12-13   34240.971902   122.659970"
      ]
     },
     "execution_count": 32,
     "metadata": {},
     "output_type": "execute_result"
    }
   ],
   "source": [
    "df_pred = pd.concat((df1_pred, df2_pred['Deaths']), axis =1)\n",
    "df_pred"
   ]
  },
  {
   "cell_type": "code",
   "execution_count": 22,
   "metadata": {},
   "outputs": [],
   "source": [
    "# save only the needed columns\n",
    "df_pred[['ForecastID','Confirmed','Deaths']].to_csv('output/submission4.csv', index = False) "
   ]
  },
  {
   "cell_type": "markdown",
   "metadata": {},
   "source": [
    "### Hyperparameter Tuning"
   ]
  },
  {
   "cell_type": "code",
   "execution_count": 39,
   "metadata": {},
   "outputs": [],
   "source": [
    "# Simple Version\n",
    "# Generate all combinations of parameters\n",
    "param_grid = {  \n",
    "    'changepoint_prior_scale': [0.001, 0.01, 0.05, 0.1, 0.5], #default 0.05\n",
    "    'seasonality_prior_scale': [0.01, 0.1, 1.0, 10.0], #default 10\n",
    "}\n",
    "all_params = [dict(zip(param_grid.keys(), v)) for v in itertools.product(*param_grid.values())]"
   ]
  },
  {
   "cell_type": "code",
   "execution_count": 40,
   "metadata": {},
   "outputs": [
    {
     "name": "stdout",
     "output_type": "stream",
     "text": [
      "Total Possible Models 240\n"
     ]
    }
   ],
   "source": [
    "# Generate more model\n",
    "# Generate all combinations of parameters\n",
    "from sklearn.model_selection import ParameterGrid\n",
    "params_grid = {'seasonality_mode':['multiplicative','additive'], \n",
    "               'changepoint_prior_scale': [0.001, 0.002, 0.005, 0.05, 0.5],  # default 0.05, reasonable range [0.001, 0.5]\n",
    "               'seasonality_prior_scale': [0.01, 0.02, 0.05, 0.1, 1, 10.0],  # default 10, reasonable range [0.01, 10]\n",
    "               'changepoint_range' : [0.8, 0.85, 0.9, 0.95] \n",
    "              }\n",
    "\n",
    "all_params = ParameterGrid(params_grid)\n",
    "cnt = 0\n",
    "for params in all_params:\n",
    "    #print(params)\n",
    "    cnt = cnt+1\n",
    "    \n",
    "print('Total Possible Models',cnt)"
   ]
  },
  {
   "cell_type": "markdown",
   "metadata": {},
   "source": [
    "**NOTE**\n",
    "\n",
    "Since we have possible models upto 240, we need to run 240 * 3(cross validation) * 2 (cases/death cases) * 50 (states). Approximately 33 hours in total. So we might want to break up the following for loop into several one and run on differnt kernels to save time."
   ]
  },
  {
   "cell_type": "code",
   "execution_count": null,
   "metadata": {
    "scrolled": true
   },
   "outputs": [
    {
     "name": "stderr",
     "output_type": "stream",
     "text": [
      "INFO:fbprophet:Disabling yearly seasonality. Run prophet with yearly_seasonality=True to override this.\n",
      "INFO:fbprophet:Disabling daily seasonality. Run prophet with daily_seasonality=True to override this.\n",
      "WARNING:fbprophet.models:Optimization terminated abnormally. Falling back to Newton.\n",
      "INFO:fbprophet:Making 6 forecasts with cutoffs between 2020-05-30 00:00:00 and 2020-10-27 00:00:00\n"
     ]
    },
    {
     "data": {
      "application/vnd.jupyter.widget-view+json": {
       "model_id": "86aadcc0ec0a4011b03ffb67ecac3178",
       "version_major": 2,
       "version_minor": 0
      },
      "text/plain": [
       "HBox(children=(HTML(value=''), FloatProgress(value=0.0, max=6.0), HTML(value='')))"
      ]
     },
     "metadata": {},
     "output_type": "display_data"
    },
    {
     "name": "stderr",
     "output_type": "stream",
     "text": [
      "WARNING:fbprophet.models:Optimization terminated abnormally. Falling back to Newton.\n",
      "WARNING:fbprophet.models:Optimization terminated abnormally. Falling back to Newton.\n"
     ]
    },
    {
     "name": "stdout",
     "output_type": "stream",
     "text": [
      "\n"
     ]
    },
    {
     "name": "stderr",
     "output_type": "stream",
     "text": [
      "WARNING:fbprophet.models:Optimization terminated abnormally. Falling back to Newton.\n",
      "WARNING:fbprophet.models:Optimization terminated abnormally. Falling back to Newton.\n",
      "INFO:fbprophet:Disabling yearly seasonality. Run prophet with yearly_seasonality=True to override this.\n",
      "INFO:fbprophet:Disabling daily seasonality. Run prophet with daily_seasonality=True to override this.\n",
      "WARNING:fbprophet.models:Optimization terminated abnormally. Falling back to Newton.\n"
     ]
    },
    {
     "name": "stdout",
     "output_type": "stream",
     "text": [
      "\n"
     ]
    },
    {
     "name": "stderr",
     "output_type": "stream",
     "text": [
      "INFO:fbprophet:Making 6 forecasts with cutoffs between 2020-05-30 00:00:00 and 2020-10-27 00:00:00\n"
     ]
    },
    {
     "data": {
      "application/vnd.jupyter.widget-view+json": {
       "model_id": "a4030fe0839e4674911bf63e70b90398",
       "version_major": 2,
       "version_minor": 0
      },
      "text/plain": [
       "HBox(children=(HTML(value=''), FloatProgress(value=0.0, max=6.0), HTML(value='')))"
      ]
     },
     "metadata": {},
     "output_type": "display_data"
    },
    {
     "name": "stderr",
     "output_type": "stream",
     "text": [
      "WARNING:fbprophet.models:Optimization terminated abnormally. Falling back to Newton.\n",
      "WARNING:fbprophet.models:Optimization terminated abnormally. Falling back to Newton.\n",
      "WARNING:fbprophet.models:Optimization terminated abnormally. Falling back to Newton.\n",
      "WARNING:fbprophet.models:Optimization terminated abnormally. Falling back to Newton.\n",
      "INFO:fbprophet:Disabling yearly seasonality. Run prophet with yearly_seasonality=True to override this.\n",
      "INFO:fbprophet:Disabling daily seasonality. Run prophet with daily_seasonality=True to override this.\n",
      "WARNING:fbprophet.models:Optimization terminated abnormally. Falling back to Newton.\n"
     ]
    },
    {
     "name": "stdout",
     "output_type": "stream",
     "text": [
      "\n"
     ]
    },
    {
     "name": "stderr",
     "output_type": "stream",
     "text": [
      "INFO:fbprophet:Making 6 forecasts with cutoffs between 2020-05-30 00:00:00 and 2020-10-27 00:00:00\n"
     ]
    },
    {
     "data": {
      "application/vnd.jupyter.widget-view+json": {
       "model_id": "a4e9fc5bf45d4e4ab9f5c5ad20e65827",
       "version_major": 2,
       "version_minor": 0
      },
      "text/plain": [
       "HBox(children=(HTML(value=''), FloatProgress(value=0.0, max=6.0), HTML(value='')))"
      ]
     },
     "metadata": {},
     "output_type": "display_data"
    },
    {
     "name": "stderr",
     "output_type": "stream",
     "text": [
      "WARNING:fbprophet.models:Optimization terminated abnormally. Falling back to Newton.\n",
      "WARNING:fbprophet.models:Optimization terminated abnormally. Falling back to Newton.\n",
      "WARNING:fbprophet.models:Optimization terminated abnormally. Falling back to Newton.\n",
      "WARNING:fbprophet.models:Optimization terminated abnormally. Falling back to Newton.\n",
      "INFO:fbprophet:Disabling yearly seasonality. Run prophet with yearly_seasonality=True to override this.\n",
      "INFO:fbprophet:Disabling daily seasonality. Run prophet with daily_seasonality=True to override this.\n",
      "WARNING:fbprophet.models:Optimization terminated abnormally. Falling back to Newton.\n"
     ]
    },
    {
     "name": "stdout",
     "output_type": "stream",
     "text": [
      "\n"
     ]
    },
    {
     "name": "stderr",
     "output_type": "stream",
     "text": [
      "INFO:fbprophet:Making 6 forecasts with cutoffs between 2020-05-30 00:00:00 and 2020-10-27 00:00:00\n"
     ]
    },
    {
     "data": {
      "application/vnd.jupyter.widget-view+json": {
       "model_id": "4f87a852c43f4410ad403f0ecc741a2b",
       "version_major": 2,
       "version_minor": 0
      },
      "text/plain": [
       "HBox(children=(HTML(value=''), FloatProgress(value=0.0, max=6.0), HTML(value='')))"
      ]
     },
     "metadata": {},
     "output_type": "display_data"
    },
    {
     "name": "stderr",
     "output_type": "stream",
     "text": [
      "WARNING:fbprophet.models:Optimization terminated abnormally. Falling back to Newton.\n",
      "WARNING:fbprophet.models:Optimization terminated abnormally. Falling back to Newton.\n",
      "WARNING:fbprophet.models:Optimization terminated abnormally. Falling back to Newton.\n",
      "WARNING:fbprophet.models:Optimization terminated abnormally. Falling back to Newton.\n",
      "INFO:fbprophet:Disabling yearly seasonality. Run prophet with yearly_seasonality=True to override this.\n",
      "INFO:fbprophet:Disabling daily seasonality. Run prophet with daily_seasonality=True to override this.\n",
      "WARNING:fbprophet.models:Optimization terminated abnormally. Falling back to Newton.\n"
     ]
    },
    {
     "name": "stdout",
     "output_type": "stream",
     "text": [
      "\n"
     ]
    },
    {
     "name": "stderr",
     "output_type": "stream",
     "text": [
      "INFO:fbprophet:Making 6 forecasts with cutoffs between 2020-05-30 00:00:00 and 2020-10-27 00:00:00\n"
     ]
    },
    {
     "data": {
      "application/vnd.jupyter.widget-view+json": {
       "model_id": "d0c42205c8f64090b8e7c9cf94b905a1",
       "version_major": 2,
       "version_minor": 0
      },
      "text/plain": [
       "HBox(children=(HTML(value=''), FloatProgress(value=0.0, max=6.0), HTML(value='')))"
      ]
     },
     "metadata": {},
     "output_type": "display_data"
    },
    {
     "name": "stderr",
     "output_type": "stream",
     "text": [
      "WARNING:fbprophet.models:Optimization terminated abnormally. Falling back to Newton.\n",
      "WARNING:fbprophet.models:Optimization terminated abnormally. Falling back to Newton.\n",
      "WARNING:fbprophet.models:Optimization terminated abnormally. Falling back to Newton.\n",
      "WARNING:fbprophet.models:Optimization terminated abnormally. Falling back to Newton.\n",
      "INFO:fbprophet:Disabling yearly seasonality. Run prophet with yearly_seasonality=True to override this.\n",
      "INFO:fbprophet:Disabling daily seasonality. Run prophet with daily_seasonality=True to override this.\n",
      "WARNING:fbprophet.models:Optimization terminated abnormally. Falling back to Newton.\n"
     ]
    },
    {
     "name": "stdout",
     "output_type": "stream",
     "text": [
      "\n"
     ]
    },
    {
     "name": "stderr",
     "output_type": "stream",
     "text": [
      "INFO:fbprophet:Making 6 forecasts with cutoffs between 2020-05-30 00:00:00 and 2020-10-27 00:00:00\n"
     ]
    },
    {
     "data": {
      "application/vnd.jupyter.widget-view+json": {
       "model_id": "ef91a31f73b14ab38a0d2bfe42689b1b",
       "version_major": 2,
       "version_minor": 0
      },
      "text/plain": [
       "HBox(children=(HTML(value=''), FloatProgress(value=0.0, max=6.0), HTML(value='')))"
      ]
     },
     "metadata": {},
     "output_type": "display_data"
    },
    {
     "name": "stderr",
     "output_type": "stream",
     "text": [
      "WARNING:fbprophet.models:Optimization terminated abnormally. Falling back to Newton.\n",
      "WARNING:fbprophet.models:Optimization terminated abnormally. Falling back to Newton.\n",
      "WARNING:fbprophet.models:Optimization terminated abnormally. Falling back to Newton.\n",
      "WARNING:fbprophet.models:Optimization terminated abnormally. Falling back to Newton.\n",
      "INFO:fbprophet:Disabling yearly seasonality. Run prophet with yearly_seasonality=True to override this.\n",
      "INFO:fbprophet:Disabling daily seasonality. Run prophet with daily_seasonality=True to override this.\n",
      "WARNING:fbprophet.models:Optimization terminated abnormally. Falling back to Newton.\n"
     ]
    },
    {
     "name": "stdout",
     "output_type": "stream",
     "text": [
      "\n"
     ]
    },
    {
     "name": "stderr",
     "output_type": "stream",
     "text": [
      "INFO:fbprophet:Making 6 forecasts with cutoffs between 2020-05-30 00:00:00 and 2020-10-27 00:00:00\n"
     ]
    },
    {
     "data": {
      "application/vnd.jupyter.widget-view+json": {
       "model_id": "acf014ea05e741689297cc53b6e1fd12",
       "version_major": 2,
       "version_minor": 0
      },
      "text/plain": [
       "HBox(children=(HTML(value=''), FloatProgress(value=0.0, max=6.0), HTML(value='')))"
      ]
     },
     "metadata": {},
     "output_type": "display_data"
    },
    {
     "name": "stderr",
     "output_type": "stream",
     "text": [
      "WARNING:fbprophet.models:Optimization terminated abnormally. Falling back to Newton.\n",
      "WARNING:fbprophet.models:Optimization terminated abnormally. Falling back to Newton.\n",
      "WARNING:fbprophet.models:Optimization terminated abnormally. Falling back to Newton.\n",
      "WARNING:fbprophet.models:Optimization terminated abnormally. Falling back to Newton.\n",
      "INFO:fbprophet:Disabling yearly seasonality. Run prophet with yearly_seasonality=True to override this.\n",
      "INFO:fbprophet:Disabling daily seasonality. Run prophet with daily_seasonality=True to override this.\n",
      "WARNING:fbprophet.models:Optimization terminated abnormally. Falling back to Newton.\n"
     ]
    },
    {
     "name": "stdout",
     "output_type": "stream",
     "text": [
      "\n"
     ]
    },
    {
     "name": "stderr",
     "output_type": "stream",
     "text": [
      "INFO:fbprophet:Making 6 forecasts with cutoffs between 2020-05-30 00:00:00 and 2020-10-27 00:00:00\n"
     ]
    },
    {
     "data": {
      "application/vnd.jupyter.widget-view+json": {
       "model_id": "c879a860f2e54fdeafb57857fd3617ab",
       "version_major": 2,
       "version_minor": 0
      },
      "text/plain": [
       "HBox(children=(HTML(value=''), FloatProgress(value=0.0, max=6.0), HTML(value='')))"
      ]
     },
     "metadata": {},
     "output_type": "display_data"
    },
    {
     "name": "stderr",
     "output_type": "stream",
     "text": [
      "WARNING:fbprophet.models:Optimization terminated abnormally. Falling back to Newton.\n",
      "WARNING:fbprophet.models:Optimization terminated abnormally. Falling back to Newton.\n",
      "WARNING:fbprophet.models:Optimization terminated abnormally. Falling back to Newton.\n",
      "WARNING:fbprophet.models:Optimization terminated abnormally. Falling back to Newton.\n",
      "INFO:fbprophet:Disabling yearly seasonality. Run prophet with yearly_seasonality=True to override this.\n",
      "INFO:fbprophet:Disabling daily seasonality. Run prophet with daily_seasonality=True to override this.\n",
      "WARNING:fbprophet.models:Optimization terminated abnormally. Falling back to Newton.\n"
     ]
    },
    {
     "name": "stdout",
     "output_type": "stream",
     "text": [
      "\n"
     ]
    },
    {
     "name": "stderr",
     "output_type": "stream",
     "text": [
      "INFO:fbprophet:Making 6 forecasts with cutoffs between 2020-05-30 00:00:00 and 2020-10-27 00:00:00\n"
     ]
    },
    {
     "data": {
      "application/vnd.jupyter.widget-view+json": {
       "model_id": "0f826a56c70a45f6aedf9d37d51a567e",
       "version_major": 2,
       "version_minor": 0
      },
      "text/plain": [
       "HBox(children=(HTML(value=''), FloatProgress(value=0.0, max=6.0), HTML(value='')))"
      ]
     },
     "metadata": {},
     "output_type": "display_data"
    },
    {
     "name": "stderr",
     "output_type": "stream",
     "text": [
      "WARNING:fbprophet.models:Optimization terminated abnormally. Falling back to Newton.\n",
      "WARNING:fbprophet.models:Optimization terminated abnormally. Falling back to Newton.\n"
     ]
    }
   ],
   "source": [
    "df1_all_states = [] #store predicted data for each state\n",
    "df2_all_states = []\n",
    "States = df['Province_State'].drop_duplicates().tolist()\n",
    "start_date = '2020-12-07'\n",
    "for state in States[:1]: #test for just one state\n",
    "\n",
    "    # training data: 2020-04-12 to 2020-08-31\n",
    "    # predict confirmed cases\n",
    "    df1_one_state = df1[df1['Province_State'] == state]\n",
    "    \n",
    "    \n",
    "    best_params1 = get_bestParameters(df1_one_state, all_params)\n",
    "    m1 = Prophet(**best_params1).fit(df1_one_state) # fit data to model\n",
    "    \n",
    "    future = m1.make_future_dataframe(periods=26, freq = 'D')\n",
    "    forecast1 = m1.predict (future) # predict\n",
    "    \n",
    "    df1_one_state_pred = generate_ForecastID(forecast1, 'Confirmed', start_date, state,States)  #generate ForecastID\n",
    "    df1_all_states.append(df1_one_state_pred)\n",
    "    \n",
    "    # predict death cases\n",
    "    df2_one_state = df2[df2['Province_State'] == state]\n",
    "    \n",
    "    best_params2 = get_bestParameters(df2_one_state, all_params)\n",
    "    m2 = Prophet(**best_params2).fit(df2_one_state)\n",
    "    forecast2 = m2.predict (future)\n",
    "    \n",
    "    df2_one_state_pred = generate_ForecastID(forecast2, 'Deaths', start_date, state,States) \n",
    "    df2_all_states.append(df2_one_state_pred)"
   ]
  },
  {
   "cell_type": "code",
   "execution_count": null,
   "metadata": {},
   "outputs": [],
   "source": [
    "df1_pred = pd.concat(df1_all_states, ignore_index=True).sort_values(by=['ForecastID'])\n",
    "df2_pred = pd.concat(df2_all_states, ignore_index=True).sort_values(by=['ForecastID'])\n",
    "df_pred = pd.concat((df1_pred, df2_pred['Deaths']), axis =1)\n",
    "df_pred"
   ]
  },
  {
   "cell_type": "code",
   "execution_count": null,
   "metadata": {},
   "outputs": [],
   "source": [
    "# save only the needed columns\n",
    "df_pred[['ForecastID','Confirmed','Deaths']].to_csv('output/submission4.csv', index = False) "
   ]
  }
 ],
 "metadata": {
  "kernelspec": {
   "display_name": "Python 3",
   "language": "python",
   "name": "python3"
  },
  "language_info": {
   "codemirror_mode": {
    "name": "ipython",
    "version": 3
   },
   "file_extension": ".py",
   "mimetype": "text/x-python",
   "name": "python",
   "nbconvert_exporter": "python",
   "pygments_lexer": "ipython3",
   "version": "3.8.5"
  }
 },
 "nbformat": 4,
 "nbformat_minor": 4
}
